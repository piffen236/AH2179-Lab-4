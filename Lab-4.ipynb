{
 "cells": [
  {
   "cell_type": "code",
   "execution_count": 1,
   "id": "795c9e6c",
   "metadata": {},
   "outputs": [],
   "source": [
    "#Hanlde DataFrame\n",
    "import pandas as pd\n",
    "import os\n",
    "\n",
    "#Model\n",
    "from sklearn.model_selection import train_test_split\n",
    "from sklearn.linear_model import LogisticRegression\n",
    "from sklearn.feature_extraction.text import CountVectorizer\n",
    "from sklearn.feature_extraction.text import CountVectorizer\n",
    "from sklearn.feature_extraction.text import TfidfVectorizer\n",
    "from sklearn.feature_extraction.text import HashingVectorizer\n",
    "from sklearn.metrics import ConfusionMatrixDisplay as cmd\n",
    "from sklearn.neighbors import KNeighborsClassifier\n",
    "from sklearn.ensemble import RandomForestClassifier\n",
    "from xgboost import XGBClassifier\n",
    "from sklearn.svm import SVC\n",
    "from sklearn.naive_bayes import BernoulliNB\n",
    "from sklearn.model_selection import GridSearchCV\n",
    "\n",
    "#analyse result\n",
    "from sklearn.metrics import ConfusionMatrixDisplay as cmd\n",
    "from sklearn.metrics import accuracy_score\n",
    "from wordcloud import WordCloud\n",
    "import matplotlib.pyplot as plt\n",
    "import time"
   ]
  },
  {
   "cell_type": "code",
   "execution_count": 2,
   "id": "f4a46295",
   "metadata": {},
   "outputs": [
    {
     "data": {
      "text/html": [
       "<div>\n",
       "<style scoped>\n",
       "    .dataframe tbody tr th:only-of-type {\n",
       "        vertical-align: middle;\n",
       "    }\n",
       "\n",
       "    .dataframe tbody tr th {\n",
       "        vertical-align: top;\n",
       "    }\n",
       "\n",
       "    .dataframe thead th {\n",
       "        text-align: right;\n",
       "    }\n",
       "</style>\n",
       "<table border=\"1\" class=\"dataframe\">\n",
       "  <thead>\n",
       "    <tr style=\"text-align: right;\">\n",
       "      <th></th>\n",
       "      <th>Text</th>\n",
       "      <th>Sentiment</th>\n",
       "    </tr>\n",
       "  </thead>\n",
       "  <tbody>\n",
       "    <tr>\n",
       "      <th>0</th>\n",
       "      <td>Adayala road is clear</td>\n",
       "      <td>0</td>\n",
       "    </tr>\n",
       "    <tr>\n",
       "      <th>1</th>\n",
       "      <td>Traffic jam from parbat rd to nazim-ud-din rd ...</td>\n",
       "      <td>1</td>\n",
       "    </tr>\n",
       "    <tr>\n",
       "      <th>2</th>\n",
       "      <td>Mandra is clear</td>\n",
       "      <td>0</td>\n",
       "    </tr>\n",
       "    <tr>\n",
       "      <th>3</th>\n",
       "      <td>Fort street is clear</td>\n",
       "      <td>0</td>\n",
       "    </tr>\n",
       "    <tr>\n",
       "      <th>4</th>\n",
       "      <td>Mashriq Hotel towards Fawara Chowk, City Sadda...</td>\n",
       "      <td>1</td>\n",
       "    </tr>\n",
       "  </tbody>\n",
       "</table>\n",
       "</div>"
      ],
      "text/plain": [
       "                                                Text  Sentiment\n",
       "0                              Adayala road is clear          0\n",
       "1  Traffic jam from parbat rd to nazim-ud-din rd ...          1\n",
       "2                                    Mandra is clear          0\n",
       "3                               Fort street is clear          0\n",
       "4  Mashriq Hotel towards Fawara Chowk, City Sadda...          1"
      ]
     },
     "execution_count": 2,
     "metadata": {},
     "output_type": "execute_result"
    }
   ],
   "source": [
    "url = 'https://raw.githubusercontent.com/zhenliangma/Applied-AI-in-Transportation/master/Exercise_4_Text_classification/Pakistani%20Traffic%20sentiment%20Analysis.csv'\n",
    "\n",
    "# Load the data use the pandas\n",
    "df = pd.read_csv(url)\n",
    "\n",
    "df.head()"
   ]
  },
  {
   "cell_type": "code",
   "execution_count": 3,
   "id": "b6b86e85",
   "metadata": {},
   "outputs": [
    {
     "name": "stdout",
     "output_type": "stream",
     "text": [
      "[array(['service'], dtype='<U17')]\n"
     ]
    }
   ],
   "source": [
    "df = df.drop_duplicates()\n",
    "df.groupby('Sentiment').describe()\n",
    "vectorizer = CountVectorizer(ngram_range=(1, 2), stop_words='english', min_df=20)\n",
    "x = vectorizer.fit_transform(df['Text'])\n",
    "y = df['Sentiment']\n",
    "text = vectorizer.transform(['The long l3ines   and; pOOr customer# service really turned me off...123.'])\n",
    "text = vectorizer.inverse_transform(text)\n",
    "print(text)\n",
    "x_train, x_test, y_train, y_test = train_test_split(x, y, test_size=0.2, random_state=0)  "
   ]
  },
  {
   "cell_type": "markdown",
   "id": "f6b8aba9",
   "metadata": {},
   "source": [
    "# Regression"
   ]
  },
  {
   "cell_type": "code",
   "execution_count": 4,
   "id": "3cc75c5d",
   "metadata": {},
   "outputs": [
    {
     "name": "stdout",
     "output_type": "stream",
     "text": [
      "{'C': 1}\n",
      "The accuracy of the model is: 0.937799043062201\n",
      "time: 5.920072078704834\n"
     ]
    },
    {
     "data": {
      "image/png": "[encoded data removed]",
      "text/plain": [
       "<Figure size 432x288 with 2 Axes>"
      ]
     },
     "metadata": {
      "needs_background": "light"
     },
     "output_type": "display_data"
    }
   ],
   "source": [
    "start = time.time()\n",
    "model = LogisticRegression(max_iter=1000, random_state=0)\n",
    "param_grid = {\n",
    "    'C': [0.001, 0.01, 0.1, 1, 10, 100],\n",
    "}\n",
    "\n",
    "#`grid_search` performs a grid search with 5-fold cross-validation and evaluates models based on accuracy.\n",
    "grid_search = GridSearchCV(estimator=model, param_grid=param_grid, cv=5, scoring='accuracy')\n",
    "\n",
    "#`fit` method fits the model to the training data, systematically trying out all parameter combinations.\n",
    "grid_search.fit(x_train, y_train)\n",
    "\n",
    "#`best_params` and `best_score` store the best hyperparameters and their corresponding accuracy score.\n",
    "best_params = grid_search.best_params_\n",
    "print(best_params)\n",
    "best_score = grid_search.best_score_\n",
    "\n",
    "#The `model` is updated with the best estimator found during the grid search, which can be used for further analysis.\n",
    "model = grid_search.best_estimator_\n",
    "\n",
    "cmd.from_estimator(model, x_test, y_test,display_labels=['Positive','Negative'],cmap='Blues', xticks_rotation='vertical')\n",
    "\n",
    "#calculate accuracy\n",
    "print('The accuracy of the model is: '+str(accuracy_score(y_test,model.predict(x_test))))\n",
    "end = time.time()\n",
    "print(\"time:\",end - start)"
   ]
  },
  {
   "cell_type": "markdown",
   "id": "3b916aa3",
   "metadata": {},
   "source": [
    "# KNN"
   ]
  },
  {
   "cell_type": "code",
   "execution_count": 5,
   "id": "b9864ff9",
   "metadata": {},
   "outputs": [
    {
     "name": "stdout",
     "output_type": "stream",
     "text": [
      "{'n_neighbors': 7, 'weights': 'distance'}\n",
      "The accuracy of the model is: 0.9593301435406698\n",
      "time: 5.377287864685059\n"
     ]
    },
    {
     "data": {
      "image/png": "[encoded data removed]",
      "text/plain": [
       "<Figure size 432x288 with 2 Axes>"
      ]
     },
     "metadata": {
      "needs_background": "light"
     },
     "output_type": "display_data"
    }
   ],
   "source": [
    "start = time.time()\n",
    "model=KNeighborsClassifier()\n",
    "param_grid = {\n",
    "    'n_neighbors': [3, 5, 7, 9],\n",
    "    'weights': ['uniform', 'distance']\n",
    "}\n",
    "\n",
    "#`grid_search` performs a grid search with 5-fold cross-validation and evaluates models based on accuracy.\n",
    "grid_search = GridSearchCV(estimator=model, param_grid=param_grid, cv=5, scoring='accuracy')\n",
    "\n",
    "#`fit` method fits the model to the training data, systematically trying out all parameter combinations.\n",
    "grid_search.fit(x_train, y_train)\n",
    "\n",
    "#`best_params` and `best_score` store the best hyperparameters and their corresponding accuracy score.\n",
    "best_params = grid_search.best_params_\n",
    "print(best_params)\n",
    "best_score = grid_search.best_score_\n",
    "\n",
    "#The `model` is updated with the best estimator found during the grid search, which can be used for further analysis.\n",
    "model = grid_search.best_estimator_\n",
    "\n",
    "cmd.from_estimator(model, x_test, y_test,display_labels=['Positive','Negative'],cmap='Blues', xticks_rotation='vertical')\n",
    "\n",
    "#calculate accuracy\n",
    "print('The accuracy of the model is: '+str(accuracy_score(y_test,model.predict(x_test))))\n",
    "end = time.time()\n",
    "print(\"time:\",end - start)"
   ]
  },
  {
   "cell_type": "markdown",
   "id": "7a5d5624",
   "metadata": {},
   "source": [
    "# RF"
   ]
  },
  {
   "cell_type": "code",
   "execution_count": 6,
   "id": "70a76708",
   "metadata": {},
   "outputs": [
    {
     "name": "stdout",
     "output_type": "stream",
     "text": [
      "{'max_depth': None, 'min_samples_leaf': 1, 'min_samples_split': 10, 'n_estimators': 300}\n",
      "The accuracy of the model is: 0.9688995215311005\n",
      "time: 1159.3052911758423\n"
     ]
    },
    {
     "data": {
      "image/png": "[encoded data removed]",
      "text/plain": [
       "<Figure size 432x288 with 2 Axes>"
      ]
     },
     "metadata": {
      "needs_background": "light"
     },
     "output_type": "display_data"
    }
   ],
   "source": [
    "start = time.time()\n",
    "model = RandomForestClassifier(random_state=0)\n",
    "param_grid = {\n",
    "    'n_estimators': [100, 200, 300],\n",
    "    'max_depth': [None, 10, 20, 30],\n",
    "    'min_samples_split': [2, 5, 10],\n",
    "    'min_samples_leaf': [1, 2, 4]\n",
    "}\n",
    "\n",
    "\n",
    "#`grid_search` performs a grid search with 5-fold cross-validation and evaluates models based on accuracy.\n",
    "grid_search = GridSearchCV(estimator=model, param_grid=param_grid, cv=5, scoring='accuracy')\n",
    "\n",
    "#`fit` method fits the model to the training data, systematically trying out all parameter combinations.\n",
    "grid_search.fit(x_train, y_train)\n",
    "\n",
    "#`best_params` and `best_score` store the best hyperparameters and their corresponding accuracy score.\n",
    "best_params = grid_search.best_params_\n",
    "print(best_params)\n",
    "best_score = grid_search.best_score_\n",
    "\n",
    "#The `model` is updated with the best estimator found during the grid search, which can be used for further analysis.\n",
    "model = grid_search.best_estimator_\n",
    "\n",
    "cmd.from_estimator(model, x_test, y_test,display_labels=['Positive','Negative'],cmap='Blues', xticks_rotation='vertical')\n",
    "\n",
    "#calculate accuracy\n",
    "print('The accuracy of the model is: '+str(accuracy_score(y_test,model.predict(x_test))))\n",
    "end = time.time()\n",
    "print(\"time:\",end - start)"
   ]
  },
  {
   "cell_type": "markdown",
   "id": "2e59ae17",
   "metadata": {},
   "source": [
    "# GXBOOST"
   ]
  },
  {
   "cell_type": "code",
   "execution_count": 7,
   "id": "0ad30d81",
   "metadata": {},
   "outputs": [
    {
     "name": "stdout",
     "output_type": "stream",
     "text": [
      "{'learning_rate': 0.1, 'max_depth': 3, 'n_estimators': 200}\n",
      "The accuracy of the model is: 0.9593301435406698\n",
      "time: 618.1844201087952\n"
     ]
    },
    {
     "data": {
      "image/png": "[encoded data removed]",
      "text/plain": [
       "<Figure size 432x288 with 2 Axes>"
      ]
     },
     "metadata": {
      "needs_background": "light"
     },
     "output_type": "display_data"
    }
   ],
   "source": [
    "start = time.time()\n",
    "model=XGBClassifier()\n",
    "param_grid = {\n",
    "    'learning_rate': [0.01, 0.1, 0.2],\n",
    "    'n_estimators': [100, 200, 300],\n",
    "    'max_depth': [3, 4, 5]\n",
    "}\n",
    "\n",
    "#`grid_search` performs a grid search with 5-fold cross-validation and evaluates models based on accuracy.\n",
    "grid_search = GridSearchCV(estimator=model, param_grid=param_grid, cv=5, scoring='accuracy')\n",
    "\n",
    "#`fit` method fits the model to the training data, systematically trying out all parameter combinations.\n",
    "grid_search.fit(x_train, y_train)\n",
    "\n",
    "#`best_params` and `best_score` store the best hyperparameters and their corresponding accuracy score.\n",
    "best_params = grid_search.best_params_\n",
    "print(best_params)\n",
    "best_score = grid_search.best_score_\n",
    "\n",
    "#The `model` is updated with the best estimator found during the grid search, which can be used for further analysis.\n",
    "model = grid_search.best_estimator_\n",
    "\n",
    "cmd.from_estimator(model, x_test, y_test,display_labels=['Positive','Negative'],cmap='Blues', xticks_rotation='vertical')\n",
    "\n",
    "#calculate accuracy\n",
    "print('The accuracy of the model is: '+str(accuracy_score(y_test,model.predict(x_test))))\n",
    "end = time.time()\n",
    "print(\"time:\",end - start)"
   ]
  },
  {
   "cell_type": "markdown",
   "id": "900231d1",
   "metadata": {},
   "source": [
    "# SVM"
   ]
  },
  {
   "cell_type": "code",
   "execution_count": 8,
   "id": "10708e8c",
   "metadata": {},
   "outputs": [
    {
     "name": "stdout",
     "output_type": "stream",
     "text": [
      "{'C': 10, 'kernel': 'rbf'}\n",
      "The accuracy of the model is: 0.9593301435406698\n",
      "time: 58.1085991859436\n"
     ]
    },
    {
     "data": {
      "image/png": "[encoded data removed]",
      "text/plain": [
       "<Figure size 432x288 with 2 Axes>"
      ]
     },
     "metadata": {
      "needs_background": "light"
     },
     "output_type": "display_data"
    }
   ],
   "source": [
    "start = time.time()\n",
    "model= SVC(probability=True)\n",
    "param_grid = {\n",
    "    'kernel': ['linear', 'rbf', 'poly'],\n",
    "    'C': [0.1, 1, 10]\n",
    "}\n",
    "\n",
    "#`grid_search` performs a grid search with 5-fold cross-validation and evaluates models based on accuracy.\n",
    "grid_search = GridSearchCV(estimator=model, param_grid=param_grid, cv=5, scoring='accuracy')\n",
    "\n",
    "#`fit` method fits the model to the training data, systematically trying out all parameter combinations.\n",
    "grid_search.fit(x_train, y_train)\n",
    "\n",
    "#`best_params` and `best_score` store the best hyperparameters and their corresponding accuracy score.\n",
    "best_params = grid_search.best_params_\n",
    "print(best_params)\n",
    "best_score = grid_search.best_score_\n",
    "\n",
    "#The `model` is updated with the best estimator found during the grid search, which can be used for further analysis.\n",
    "model = grid_search.best_estimator_\n",
    "\n",
    "cmd.from_estimator(model, x_test, y_test,display_labels=['Positive','Negative'],cmap='Blues', xticks_rotation='vertical')\n",
    "\n",
    "#calculate accuracy\n",
    "print('The accuracy of the model is: '+str(accuracy_score(y_test,model.predict(x_test))))\n",
    "end = time.time()\n",
    "print(\"time:\",end - start)"
   ]
  }
 ],
 "metadata": {
  "kernelspec": {
   "display_name": "Python 3 (ipykernel)",
   "language": "python",
   "name": "python3"
  },
  "language_info": {
   "codemirror_mode": {
    "name": "ipython",
    "version": 3
   },
   "file_extension": ".py",
   "mimetype": "text/x-python",
   "name": "python",
   "nbconvert_exporter": "python",
   "pygments_lexer": "ipython3",
   "version": "3.9.7"
  }
 },
 "nbformat": 4,
 "nbformat_minor": 5
}
